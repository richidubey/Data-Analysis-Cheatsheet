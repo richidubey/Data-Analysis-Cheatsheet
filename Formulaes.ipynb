{
 "cells": [
  {
   "cell_type": "code",
   "execution_count": 10,
   "id": "a9beb44c-6b51-4936-81a6-5d648d759c81",
   "metadata": {},
   "outputs": [
    {
     "name": "stdout",
     "output_type": "stream",
     "text": [
      "  num nam what\n",
      "0   1   2    3\n",
      "1   a   b    c\n"
     ]
    }
   ],
   "source": [
    "import numpy as np\n",
    "import pandas as pd\n",
    "from pandas import Series\n",
    "from pandas import DataFrame\n",
    "import matplotlib.pyplot as plt\n",
    "\n",
    "\n",
    "arr=np.array([1,2,3])\n",
    "\n",
    "a=Series([1,2,3], index=['a','b','c'])\n",
    "\n",
    "d=pd.DataFrame([[1,2,3],['a','b','c']],columns=['num','nam','what'])\n",
    "d.set_index(num)\n",
    "\n",
    "plt.plot(x,y,color,linestyle='-|--|.| ',marker='*|o|s|^|3', linewidth=10, title='Helloo')\n",
    "plt.axis(1,10,2,40)\n",
    "plt.show()\n",
    "print(d)\n",
    "\n",
    "scores=[1,2,3,4]\n",
    "scores.to_frame()\n",
    "data=pd.read_csv('data/wow.txt', delimiter=';', decimal=',')\n",
    "\n",
    "#Extracting Column -> data['Trans_Fat']\n",
    "#Extracting row\n",
    "row0=data.iloc[0]\n",
    "ndata=data.set_index('Column1Name')\n",
    "row0=data.loc['NameofIndexofRow0'] or data.iloc[0]\n",
    "\n",
    "#Row and a slice of its columns\n",
    "menu_i.iloc[0, 0:2]\n",
    "data.head(5)\n",
    "\n",
    "menu.sort_values('Category', ascending=True)\n",
    "data.columns || data.columns.tolist()\n",
    "data[data['Trans Fat']>0]\n",
    "\n",
    "data['Category'].value_counts() #Show count of each unique value\n",
    "data['Category'].dtype\n",
    "data['Number'].astype(int)\n",
    "\n",
    "data['Category'].str.replace('A','B')\n",
    "data.dropna(subset=['Price']) #Can also do dropna(axes=1)- to drop where any column is NA. dropna(how=all) - to drop any row where all columsn are NA\n",
    "data.reset_index(drop=True, inplace=True) #Drop means drop the previous index instead of concatenating it as a column.\n",
    "\n",
    "pd.cut(data['salary'],[0,100,1000,100000])\n",
    "pd.get_dummies(pd.cut...).tail()\n",
    "pd.concat([nfl, pd.get_dummies(pd.cut(...)], axis=1)\n",
    "nfl['heights'].str.split('-', expand=True)\n",
    "nfl.astype(int) #For converting all to int, for individual column -> nfl.astype({'heights':float})\n",
    "\n",
    "df.set_index('race').stack() #Takes wide data and makes it tall\n",
    "\n",
    "#Joining and Merging\n",
    "df_n=df.set_index('name')\n",
    "url_wrong_order_n= url_wrong_order.set_index('name')\n",
    "df_n.join(url_wrong_order_n)\n",
    "\n",
    "df.merge(url_wrong_order, on='name', how='left/right/inner/outer', indicator=True)\n",
    "\n",
    "df.describe()\n",
    "\n",
    "\n",
    "fav.pivot_table(index='Person', columns='Item Purchased' ,values='USD', aggfunc=sum)\n",
    "df.groupby(['State', 'Fruit']).sum() # Or mean() max() apply()\n",
    "\n",
    "df.idxmax() #Returns index of maximum along row/column. Default is along row -> returns maximum for each column by default\n",
    "df.apply(np.sum, axis=0)"
   ]
  },
  {
   "cell_type": "code",
   "execution_count": null,
   "id": "4f5b7dc1-9717-43a1-b4b0-0aa9c92dfc97",
   "metadata": {},
   "outputs": [],
   "source": []
  }
 ],
 "metadata": {
  "kernelspec": {
   "display_name": "Python 3 (ipykernel)",
   "language": "python",
   "name": "python3"
  },
  "language_info": {
   "codemirror_mode": {
    "name": "ipython",
    "version": 3
   },
   "file_extension": ".py",
   "mimetype": "text/x-python",
   "name": "python",
   "nbconvert_exporter": "python",
   "pygments_lexer": "ipython3",
   "version": "3.11.3"
  }
 },
 "nbformat": 4,
 "nbformat_minor": 5
}
